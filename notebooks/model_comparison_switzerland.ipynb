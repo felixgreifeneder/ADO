{
 "cells": [
  {
   "cell_type": "code",
   "execution_count": 1,
   "outputs": [],
   "source": [
    "import warnings\n",
    "warnings.filterwarnings('ignore')\n",
    "# %matplotlib notebook"
   ],
   "metadata": {
    "collapsed": false,
    "pycharm": {
     "name": "#%%\n"
    }
   }
  },
  {
   "cell_type": "markdown",
   "metadata": {
    "collapsed": true,
    "pycharm": {
     "name": "#%% md\n"
    }
   },
   "source": [
    "# Soil moisture analysis switzerland\n",
    "\n",
    "Comparison of modelled soil moisture (PREVAH, ERA5, ERA5-Land, Lisflood, UERRA) with in-situ soil\n",
    " moisture from the SwissSMEX (SWMX) dataset.\n",
    " \n",
    "## Datasets\n",
    "Model data were interpolated to represent soil moisture at the same depth (50 cm) as the in\n",
    "situ measurement.\n",
    "### Models\n",
    "* ERA5: [DOI: 10.24381/cds.adbb2d47](https://doi.org/10.24381/cds.adbb2d47)\n",
    "* ERA5-Land: [DOI: 10.24381/cds.e2161bac](https://doi.org/10.24381/cds.e2161bac)\n",
    "* UERRA (MESCAN-SURFEX): [access through CDS](cds.climate.copernicus.eu/cdsapp#!/dataset/reanalysis-uerra-europe-complete?tab=overview)\n",
    "* LISFLOOD: [DOI: 10.23381/cds.3458969](https://doi.org/10.23381/cds.3458969)\n",
    "* PREVAH: Zappa and Gurtz (2003) [DOI: 10.1007/s10346-020-01400-y](https://doi.org/10.1007/s10346-020-01400-y); \n",
    "    Viviroli et al. (2009) [DOI: 10.1016/j.envsoft.2009.004.001](https://doi.org/10.1016/j.envsoft.2009.004.001)\n",
    "\n",
    "PREVAH represents a high-resolution, locally optimised hydrological model and acts as a reference\n",
    "for this comparison.\n",
    "\n",
    "### Reference\n",
    "SwissSMEX in-situ measurements: Mittelbach and Seneviratne (2012)\n",
    "    [DOI: 10.5194/hess-16-2169-2012](https://doi.org/10.5194/hess-16-2169-2012)\n",
    "\n",
    "We selected 6 stations with long and uninterrupted time-series:\n",
    "* Payerne\n",
    "* Plaffeien\n",
    "* Wynau\n",
    "* Chamau\n",
    "* Reckenholz\n",
    "* Taenikon\n",
    "\n",
    "![Map with SwissSMEX sites](map.png)"
   ]
  },
  {
   "cell_type": "code",
   "execution_count": 2,
   "metadata": {
    "pycharm": {
     "name": "#%%\n"
    }
   },
   "outputs": [
    {
     "name": "stdout",
     "output_type": "stream",
     "text": [
      "         Site  Elevation    Landuse     Texture  ID\n",
      "0     Payerne        490  grassland        loam   2\n",
      "1   Plaffeien       1042  grassland  sandy loam   3\n",
      "2       Wynau        422  grassland   silt loam   7\n",
      "3      Chamau        400  grassland  sandy loam   8\n",
      "4  Reckenholz        443  grassland        loam  10\n",
      "5    Taenikon        536  grassland        loam  11\n"
     ]
    }
   ],
   "source": [
    "import pandas as pd\n",
    "\n",
    "swmx_sites = pd.read_csv('/mnt/CEPH_PROJECTS/ADO/SM/reference_data/SiteInfo_SwissSMEX0713_grassland_selected.csv',\n",
    "                         skiprows=1)\n",
    "print(swmx_sites.loc[:, ['Site', 'Elevation', 'Landuse', 'Texture', 'ID']])"
   ]
  },
  {
   "cell_type": "markdown",
   "source": [
    "## Methods\n",
    "\n",
    "* SwissSMEX in-situ measurements were converted from mm to m^3/m^-3: $SM_{vol} = SM_{mm} / 500$\n",
    "* To offset the impact of biases between the different models, the comparison is based on anomalies (SMA). We used\n",
    "to following equation to compute SMA's: $SMA = SM_t - \\bar{SM} / \\delta_{SM}$ where $SM_t$ is the\n",
    "current value of SM on any given data, $\\bar{SM}$ is the long-term average, and $\\delta_{SM}$ the related\n",
    "standard deviation. The reference period was selected for each site individually, based on the temporal overlap between\n",
    "all models.\n",
    "\n",
    "## Analysis - Stations"
   ],
   "metadata": {
    "collapsed": false,
    "pycharm": {
     "name": "#%% md\n"
    }
   }
  },
  {
   "cell_type": "code",
   "execution_count": 3,
   "outputs": [],
   "source": [
    "from model_comparison import initialize_stacks\n",
    "ERA5, ERA5l, LISFLOOD, UERRA = initialize_stacks()"
   ],
   "metadata": {
    "collapsed": false,
    "pycharm": {
     "name": "#%%\n"
    }
   }
  },
  {
   "cell_type": "markdown",
   "source": [
    "The following section shows several plots for each of the six selected SwissSMEX sites: time-series plots\n",
    "covering the full period of available data; time-series plots just for the years 2012 and 2018; Scatterplots\n",
    "which show a direct comparison between in-situ and modelled soil moisture.\n",
    "\n",
    "The following table summarized the accuracy of modelled soil moisture, in terms of R and RMSE, with\n",
    "respect to the SwissSMEX measurements.\n",
    "\n",
    "**R**\n",
    "\n",
    "|--------|Payerne  |Plaffeien|Wynau    |Chamau   |Reckenholz|Taenikon  |\n",
    "|--------|---------|---------|---------|---------|----------|----------|\n",
    "|PREVAH  |0.705    |**0.678**|**0.749**|0.437    |0.642     |0.624     |\n",
    "|ERA5    |0.617    |0.592    |0.680    |0.442    |0.614     |0.574     |\n",
    "|ERA5-L  |0.641    |0.536    |0.745    |0.455    |0.585     |0.547     |\n",
    "|LISFLOOD|**0.736**|0.544    |0.712    |0.194    |**0.794** |**0.778** |\n",
    "|UERRA   |0.721    |**0.678**|0.634    |**0.541**|0.539     |0.657     |\n",
    "\n",
    "**RMSE**\n",
    "\n",
    "|--------|Payerne  |Plaffeien|Wynau    |Chamau   |Reckenholz|Taenikon  |\n",
    "|--------|---------|---------|---------|---------|----------|----------|\n",
    "|PREVAH  |0.803    |0.842    |**0.760**|1.164    |0.908     |0.906     |\n",
    "|ERA5    |0.910    |0.928    |0.837    |1.064    |0.905     |0.938     |\n",
    "|ERA5-L  |0.865    |1.005    |0.749    |1.059    |0.934     |0.964     |\n",
    "|LISFLOOD|**0.752**|0.859    |0.775    |1.274    |**0.670** |**0.662** |\n",
    "|UERRA   |0.761    |**0.835**|0.917    |**0.992**|0.961     |0.849     |\n",
    "\n",
    "This first overview shows that correlations are relatively low in general. Interestingly,\n",
    "higher spatial resolution does not always lead to higher accuracies. Performances are relatively\n",
    "similar across the tested models.\n",
    "\n",
    "\n",
    "### Payerne"
   ],
   "metadata": {
    "collapsed": false,
    "pycharm": {
     "name": "#%% md\n"
    }
   }
  },
  {
   "cell_type": "code",
   "execution_count": null,
   "outputs": [],
   "source": [
    "from model_comparison import SwissSMEX_ts_create_plots\n",
    "\n",
    "# setting\n",
    "interval = 1\n",
    "monthly=True\n",
    "anomalies=True\n",
    "year = [2012, 2018]\n",
    "\n",
    "i_swmx = 'PAY'\n",
    "anom_merged, merged = SwissSMEX_ts_create_plots(ERA5, ERA5l,\n",
    "                                                     LISFLOOD,\n",
    "                                                     UERRA,\n",
    "                                                     swmx_sites.iloc[0],\n",
    "                                                     interval,\n",
    "                                                     year=year)\n",
    "\n",
    "mindex = pd.MultiIndex.from_tuples([(i_swmx, i) for i in anom_merged.columns])\n",
    "all_stations = merged.copy()\n",
    "all_stations.columns = mindex"
   ],
   "metadata": {
    "collapsed": false,
    "pycharm": {
     "name": "#%%\n",
     "is_executing": true
    }
   }
  },
  {
   "cell_type": "markdown",
   "source": [
    "### Plaffeien"
   ],
   "metadata": {
    "collapsed": false,
    "pycharm": {
     "name": "#%% md\n"
    }
   }
  },
  {
   "cell_type": "code",
   "execution_count": null,
   "outputs": [],
   "source": [
    "i_swmx = 'PLA'\n",
    "anom_merged, merged = SwissSMEX_ts_create_plots(ERA5, ERA5l,\n",
    "                                        LISFLOOD,\n",
    "                                        UERRA,\n",
    "                                        swmx_sites.iloc[1],\n",
    "                                        interval,\n",
    "                                        year=year)\n",
    "\n",
    "mindex = pd.MultiIndex.from_tuples([(i_swmx, i) for i in anom_merged.columns])\n",
    "\n",
    "tmp = merged.copy()\n",
    "tmp.columns = mindex\n",
    "all_stations = pd.concat([tmp, all_stations], axis=1)"
   ],
   "metadata": {
    "collapsed": false,
    "pycharm": {
     "name": "#%%\n",
     "is_executing": true
    }
   }
  },
  {
   "cell_type": "markdown",
   "source": [
    "### Wynau"
   ],
   "metadata": {
    "collapsed": false
   }
  },
  {
   "cell_type": "code",
   "execution_count": null,
   "outputs": [],
   "source": [
    "i_swmx = 'WYN'\n",
    "anom_merged, merged = SwissSMEX_ts_create_plots(ERA5, ERA5l,\n",
    "                                        LISFLOOD,\n",
    "                                        UERRA,\n",
    "                                        swmx_sites.iloc[2],\n",
    "                                        interval,\n",
    "                                        year=year)\n",
    "\n",
    "mindex = pd.MultiIndex.from_tuples([(i_swmx, i) for i in anom_merged.columns])\n",
    "\n",
    "tmp = merged.copy()\n",
    "tmp.columns = mindex\n",
    "all_stations = pd.concat([tmp, all_stations], axis=1)"
   ],
   "metadata": {
    "collapsed": false,
    "pycharm": {
     "name": "#%%\n",
     "is_executing": true
    }
   }
  },
  {
   "cell_type": "markdown",
   "source": [
    "### Chamau"
   ],
   "metadata": {
    "collapsed": false
   }
  },
  {
   "cell_type": "code",
   "execution_count": null,
   "outputs": [],
   "source": [
    "i_swmx = 'CHM'\n",
    "anom_merged, merged = SwissSMEX_ts_create_plots(ERA5, ERA5l,\n",
    "                                        LISFLOOD,\n",
    "                                        UERRA,\n",
    "                                        swmx_sites.iloc[3],\n",
    "                                        interval,\n",
    "                                        year=year)\n",
    "\n",
    "mindex = pd.MultiIndex.from_tuples([(i_swmx, i) for i in anom_merged.columns])\n",
    "\n",
    "tmp = merged.copy()\n",
    "tmp.columns = mindex\n",
    "all_stations = pd.concat([tmp, all_stations], axis=1)"
   ],
   "metadata": {
    "collapsed": false,
    "pycharm": {
     "name": "#%%\n",
     "is_executing": true
    }
   }
  },
  {
   "cell_type": "markdown",
   "source": [
    "### Reckenholz"
   ],
   "metadata": {
    "collapsed": false
   }
  },
  {
   "cell_type": "code",
   "execution_count": null,
   "outputs": [],
   "source": [
    "i_swmx = 'REC'\n",
    "anom_merged, merged = SwissSMEX_ts_create_plots(ERA5, ERA5l,\n",
    "                                        LISFLOOD,\n",
    "                                        UERRA,\n",
    "                                        swmx_sites.iloc[4],\n",
    "                                        interval,\n",
    "                                        year=year)\n",
    "\n",
    "mindex = pd.MultiIndex.from_tuples([(i_swmx, i) for i in anom_merged.columns])\n",
    "\n",
    "tmp = merged.copy()\n",
    "tmp.columns = mindex\n",
    "all_stations = pd.concat([tmp, all_stations], axis=1)"
   ],
   "metadata": {
    "collapsed": false,
    "pycharm": {
     "name": "#%%\n",
     "is_executing": true
    }
   }
  },
  {
   "cell_type": "markdown",
   "source": [
    "### Taenikon"
   ],
   "metadata": {
    "collapsed": false
   }
  },
  {
   "cell_type": "code",
   "execution_count": null,
   "outputs": [],
   "source": [
    "i_swmx = 'TAE'\n",
    "anom_merged, merged = SwissSMEX_ts_create_plots(ERA5, ERA5l,\n",
    "                                        LISFLOOD,\n",
    "                                        UERRA,\n",
    "                                        swmx_sites.iloc[5],\n",
    "                                        interval,\n",
    "                                        year=year)\n",
    "\n",
    "mindex = pd.MultiIndex.from_tuples([(i_swmx, i) for i in anom_merged.columns])\n",
    "\n",
    "tmp = merged.copy()\n",
    "tmp.columns = mindex\n",
    "all_stations = pd.concat([tmp, all_stations], axis=1)"
   ],
   "metadata": {
    "collapsed": false,
    "pycharm": {
     "name": "#%%\n",
     "is_executing": true
    }
   }
  },
  {
   "cell_type": "markdown",
   "source": [
    "## Analysis - overall\n",
    "The plots below shows the time-series of average soil moisture"
   ],
   "metadata": {
    "collapsed": false,
    "pycharm": {
     "name": "#%% md\n"
    }
   }
  },
  {
   "cell_type": "code",
   "execution_count": null,
   "outputs": [],
   "source": [
    "avg_stations = all_stations.groupby(level=0, axis=1).mean()\n",
    "avg_stations.describe()"
   ],
   "metadata": {
    "collapsed": false,
    "pycharm": {
     "name": "#%%\n",
     "is_executing": true
    }
   }
  }
 ],
 "metadata": {
  "kernelspec": {
   "display_name": "Python 3",
   "language": "python",
   "name": "python3"
  },
  "language_info": {
   "codemirror_mode": {
    "name": "ipython",
    "version": 3
   },
   "file_extension": ".py",
   "mimetype": "text/x-python",
   "name": "python",
   "nbconvert_exporter": "python",
   "pygments_lexer": "ipython3",
   "version": "3.7.6"
  }
 },
 "nbformat": 4,
 "nbformat_minor": 1
}